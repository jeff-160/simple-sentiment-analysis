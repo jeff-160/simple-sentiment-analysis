{
  "nbformat": 4,
  "nbformat_minor": 0,
  "metadata": {
    "colab": {
      "provenance": []
    },
    "kernelspec": {
      "name": "python3",
      "display_name": "Python 3"
    },
    "language_info": {
      "name": "python"
    }
  },
  "cells": [
    {
      "cell_type": "code",
      "source": [
        "# load dataset (https://github.com/intelligence-csd-auth-gr/Ethos-Hate-Speech-Dataset)\n",
        "\n",
        "import pandas as pd\n",
        "\n",
        "df = pd.read_csv(\"ethos.csv\", sep=\";\")\n",
        "\n",
        "df.columns = [\"text\", \"sentiment\"]\n",
        "\n",
        "print(df)"
      ],
      "metadata": {
        "colab": {
          "base_uri": "https://localhost:8080/"
        },
        "id": "v6dapQanwvzb",
        "outputId": "7a4fcf65-e764-44ae-dbb2-ac2f010e3205"
      },
      "execution_count": 1,
      "outputs": [
        {
          "output_type": "stream",
          "name": "stdout",
          "text": [
            "                                                  text  sentiment\n",
            "0            You should know women's sports are a joke        1.0\n",
            "1      You look like Sloth with deeper Down’s syndrome        1.0\n",
            "2    You look like Russian and speak like Indian. B...        1.0\n",
            "3                 Women deserve to be abused, I guess.        1.0\n",
            "4    Women are made for making babies and cooking d...        1.0\n",
            "..                                                 ...        ...\n",
            "993   From the midnight sun where the hot springs blow        0.0\n",
            "994                        Don't say I'm not your type        0.0\n",
            "995   And therefore never send to know for whom the...        0.0\n",
            "996                      And I can't stand another day        0.0\n",
            "997   All values, unless otherwise stated, are in U...        0.0\n",
            "\n",
            "[998 rows x 2 columns]\n"
          ]
        }
      ]
    },
    {
      "cell_type": "code",
      "source": [
        "# preprocess data\n",
        "\n",
        "import spacy\n",
        "from spacy.lang.en.stop_words import STOP_WORDS\n",
        "\n",
        "nlp = spacy.load(\"en_core_web_sm\")\n",
        "\n",
        "def preprocess(text):\n",
        "  doc = nlp(text.lower())\n",
        "\n",
        "  tokens = [token.lemma_ for token in doc if token.is_alpha and token.text not in STOP_WORDS]\n",
        "  return \" \".join(tokens)\n",
        "\n",
        "df[\"text\"] = df[\"text\"].apply(preprocess)\n",
        "df[\"sentiment\"] = (df[\"sentiment\"] >= 0.5).astype(int)\n",
        "\n",
        "print(df[\"text\"], df[\"sentiment\"])"
      ],
      "metadata": {
        "colab": {
          "base_uri": "https://localhost:8080/"
        },
        "id": "wsOLwM2Hyqcj",
        "outputId": "b4c5af11-7254-4929-a68c-04c917a72b38"
      },
      "execution_count": 2,
      "outputs": [
        {
          "output_type": "stream",
          "name": "stdout",
          "text": [
            "0                                  know woman sport joke\n",
            "1                          look like sloth deep syndrome\n",
            "2      look like russian speak like indian disgusting...\n",
            "3                              woman deserve abuse guess\n",
            "4                            woman make baby cook dinner\n",
            "                             ...                        \n",
            "993                         midnight sun hot spring blow\n",
            "994                                                 type\n",
            "995                                  send know bell toll\n",
            "996                                            stand day\n",
            "997                                   value state dollar\n",
            "Name: text, Length: 998, dtype: object 0      1\n",
            "1      1\n",
            "2      1\n",
            "3      1\n",
            "4      1\n",
            "      ..\n",
            "993    0\n",
            "994    0\n",
            "995    0\n",
            "996    0\n",
            "997    0\n",
            "Name: sentiment, Length: 998, dtype: int64\n"
          ]
        }
      ]
    },
    {
      "cell_type": "code",
      "source": [
        "df[\"sentiment\"].value_counts()"
      ],
      "metadata": {
        "colab": {
          "base_uri": "https://localhost:8080/",
          "height": 178
        },
        "id": "xztHXNgy2fCo",
        "outputId": "ee67a7e2-26b4-4f86-8869-889c1fd29400"
      },
      "execution_count": 3,
      "outputs": [
        {
          "output_type": "execute_result",
          "data": {
            "text/plain": [
              "sentiment\n",
              "0    565\n",
              "1    433\n",
              "Name: count, dtype: int64"
            ],
            "text/html": [
              "<div>\n",
              "<style scoped>\n",
              "    .dataframe tbody tr th:only-of-type {\n",
              "        vertical-align: middle;\n",
              "    }\n",
              "\n",
              "    .dataframe tbody tr th {\n",
              "        vertical-align: top;\n",
              "    }\n",
              "\n",
              "    .dataframe thead th {\n",
              "        text-align: right;\n",
              "    }\n",
              "</style>\n",
              "<table border=\"1\" class=\"dataframe\">\n",
              "  <thead>\n",
              "    <tr style=\"text-align: right;\">\n",
              "      <th></th>\n",
              "      <th>count</th>\n",
              "    </tr>\n",
              "    <tr>\n",
              "      <th>sentiment</th>\n",
              "      <th></th>\n",
              "    </tr>\n",
              "  </thead>\n",
              "  <tbody>\n",
              "    <tr>\n",
              "      <th>0</th>\n",
              "      <td>565</td>\n",
              "    </tr>\n",
              "    <tr>\n",
              "      <th>1</th>\n",
              "      <td>433</td>\n",
              "    </tr>\n",
              "  </tbody>\n",
              "</table>\n",
              "</div><br><label><b>dtype:</b> int64</label>"
            ]
          },
          "metadata": {},
          "execution_count": 3
        }
      ]
    },
    {
      "cell_type": "code",
      "source": [
        "# train sentiment analysis model\n",
        "\n",
        "from sklearn.model_selection import train_test_split\n",
        "from sklearn.feature_extraction.text import TfidfVectorizer\n",
        "from sklearn.linear_model import LogisticRegression\n",
        "from sklearn.metrics import accuracy_score, classification_report\n",
        "\n",
        "x_train, x_test, y_train, y_test = train_test_split(\n",
        "    df[\"text\"], df[\"sentiment\"],\n",
        "    test_size=0.1, random_state=42\n",
        ")\n",
        "\n",
        "vectorizer = TfidfVectorizer(ngram_range=(1, 3))\n",
        "x_train_vec = vectorizer.fit_transform(x_train)\n",
        "x_test_vec = vectorizer.transform(x_test)\n",
        "\n",
        "model = LogisticRegression(max_iter=100)\n",
        "model.fit(x_train_vec, y_train)\n",
        "\n",
        "y_pred = model.predict(x_test_vec)\n",
        "\n",
        "print(\"Accuracy:\", accuracy_score(y_test, y_pred))\n",
        "print(classification_report(y_test, y_pred))"
      ],
      "metadata": {
        "colab": {
          "base_uri": "https://localhost:8080/"
        },
        "id": "Y_oS6U2ozSO7",
        "outputId": "2f0b40a4-d6d0-4fd5-9e17-6944723c6b03"
      },
      "execution_count": 67,
      "outputs": [
        {
          "output_type": "stream",
          "name": "stdout",
          "text": [
            "Accuracy: 0.69\n",
            "              precision    recall  f1-score   support\n",
            "\n",
            "           0       0.74      0.80      0.77        65\n",
            "           1       0.57      0.49      0.52        35\n",
            "\n",
            "    accuracy                           0.69       100\n",
            "   macro avg       0.65      0.64      0.65       100\n",
            "weighted avg       0.68      0.69      0.68       100\n",
            "\n"
          ]
        }
      ]
    },
    {
      "cell_type": "code",
      "source": [
        "text = input(\"> \")\n",
        "\n",
        "vec = vectorizer.transform([preprocess(text)])\n",
        "\n",
        "pred, prob = model.predict(vec)[0], model.predict_proba(vec)[0][1]\n",
        "\n",
        "print(f\"{text} {prob:.5f}\")\n",
        "\n",
        "if pred:\n",
        "  print(\"Hate speech detected!\")"
      ],
      "metadata": {
        "colab": {
          "base_uri": "https://localhost:8080/"
        },
        "id": "vCjDM2HG0IYP",
        "outputId": "dda7de68-ac08-40ef-bea8-11a782a4f659"
      },
      "execution_count": 72,
      "outputs": [
        {
          "output_type": "stream",
          "name": "stdout",
          "text": [
            "> hawk tuah\n",
            "hawk tuah 0.42091\n"
          ]
        }
      ]
    }
  ]
}