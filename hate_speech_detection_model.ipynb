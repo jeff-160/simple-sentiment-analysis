{
  "nbformat": 4,
  "nbformat_minor": 0,
  "metadata": {
    "colab": {
      "provenance": []
    },
    "kernelspec": {
      "name": "python3",
      "display_name": "Python 3"
    },
    "language_info": {
      "name": "python"
    }
  },
  "cells": [
    {
      "cell_type": "code",
      "source": [
        "# load dataset (https://github.com/intelligence-csd-auth-gr/Ethos-Hate-Speech-Dataset)\n",
        "\n",
        "import pandas as pd\n",
        "\n",
        "df = pd.read_csv(\"ethos.csv\", sep=\";\")\n",
        "\n",
        "df.columns = [\"text\", \"sentiment\"]\n",
        "\n",
        "df[\"sentiment\"] = (df[\"sentiment\"] >= 0.5).astype(int)\n",
        "\n",
        "print(df)"
      ],
      "metadata": {
        "colab": {
          "base_uri": "https://localhost:8080/"
        },
        "id": "v6dapQanwvzb",
        "outputId": "285c4507-7e23-497d-f282-28baba1c8072"
      },
      "execution_count": 36,
      "outputs": [
        {
          "output_type": "stream",
          "name": "stdout",
          "text": [
            "                                                  text  sentiment\n",
            "0            You should know women's sports are a joke          1\n",
            "1      You look like Sloth with deeper Down’s syndrome          1\n",
            "2    You look like Russian and speak like Indian. B...          1\n",
            "3                 Women deserve to be abused, I guess.          1\n",
            "4    Women are made for making babies and cooking d...          1\n",
            "..                                                 ...        ...\n",
            "993   From the midnight sun where the hot springs blow          0\n",
            "994                        Don't say I'm not your type          0\n",
            "995   And therefore never send to know for whom the...          0\n",
            "996                      And I can't stand another day          0\n",
            "997   All values, unless otherwise stated, are in U...          0\n",
            "\n",
            "[998 rows x 2 columns]\n"
          ]
        }
      ]
    },
    {
      "cell_type": "code",
      "source": [
        "import spacy\n",
        "nlp = spacy.load(\"en_core_web_sm\")"
      ],
      "metadata": {
        "id": "wsOLwM2Hyqcj"
      },
      "execution_count": 37,
      "outputs": []
    },
    {
      "cell_type": "code",
      "source": [
        "# preprocess data\n",
        "\n",
        "from spacy.lang.en.stop_words import STOP_WORDS\n",
        "import string\n",
        "\n",
        "def preprocess(sentence):\n",
        "  doc = nlp(sentence)\n",
        "\n",
        "  tokens = [token.lemma_.lower().strip() if token.lemma_ != \"-PRON-\" else token.lower_ for token in doc]\n",
        "\n",
        "  return [token for token in tokens if token not in [*STOP_WORDS] and token not in string.punctuation]"
      ],
      "metadata": {
        "id": "w5bHXAkv3hbB"
      },
      "execution_count": 38,
      "outputs": []
    },
    {
      "cell_type": "code",
      "source": [
        "# train sentiment analysis model\n",
        "\n",
        "from sklearn.svm import LinearSVC\n",
        "from sklearn.feature_extraction.text import TfidfVectorizer\n",
        "from sklearn.pipeline import Pipeline\n",
        "from sklearn.model_selection import train_test_split\n",
        "\n",
        "tfidf=TfidfVectorizer(tokenizer=preprocess)\n",
        "classifier=LinearSVC()\n",
        "\n",
        "x_train, x_test, y_train, y_test=train_test_split(df[\"text\"], df[\"sentiment\"], test_size=0.2, random_state=0)"
      ],
      "metadata": {
        "id": "rCJwt4-R3oil"
      },
      "execution_count": 39,
      "outputs": []
    },
    {
      "cell_type": "code",
      "source": [
        "from sklearn.metrics import accuracy_score, classification_report, confusion_matrix\n",
        "\n",
        "clf = Pipeline([('tfidf', tfidf), ('clf', classifier)])\n",
        "\n",
        "clf.fit(x_train, y_train)\n",
        "\n",
        "y_pred = clf.predict(x_test)\n",
        "\n",
        "confusion_matrix(y_test, y_pred)\n",
        "\n",
        "print(classification_report(y_test, y_pred))"
      ],
      "metadata": {
        "colab": {
          "base_uri": "https://localhost:8080/"
        },
        "id": "IHRw3c194pr6",
        "outputId": "6beb2e30-10e4-45d9-e6c1-fafa7b6c5e68"
      },
      "execution_count": 71,
      "outputs": [
        {
          "output_type": "stream",
          "name": "stderr",
          "text": [
            "/usr/local/lib/python3.12/dist-packages/sklearn/feature_extraction/text.py:517: UserWarning: The parameter 'token_pattern' will not be used since 'tokenizer' is not None'\n",
            "  warnings.warn(\n"
          ]
        },
        {
          "output_type": "stream",
          "name": "stdout",
          "text": [
            "              precision    recall  f1-score   support\n",
            "\n",
            "           0       0.71      0.75      0.73       121\n",
            "           1       0.58      0.53      0.56        79\n",
            "\n",
            "    accuracy                           0.67       200\n",
            "   macro avg       0.65      0.64      0.64       200\n",
            "weighted avg       0.66      0.67      0.66       200\n",
            "\n"
          ]
        }
      ]
    },
    {
      "cell_type": "code",
      "source": [
        "text = input(\"> \")\n",
        "\n",
        "pred = clf.decision_function([text])[0]\n",
        "\n",
        "if pred > 0.4:\n",
        "  print(f\"Hate speech detected!\\nConfidence: {pred}\")\n",
        "else:\n",
        "  print(f'we gucci')"
      ],
      "metadata": {
        "colab": {
          "base_uri": "https://localhost:8080/"
        },
        "id": "vCjDM2HG0IYP",
        "outputId": "b271aa56-9083-44f9-e1d8-d3820c784105"
      },
      "execution_count": 76,
      "outputs": [
        {
          "output_type": "stream",
          "name": "stdout",
          "text": [
            "> fuck you cunt\n",
            "Hate speech detected!\n",
            "Confidence: 0.8493392564790354\n"
          ]
        }
      ]
    }
  ]
}